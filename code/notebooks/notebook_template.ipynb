{
 "cells": [
  {
   "cell_type": "markdown",
   "id": "f66a3497-6a7d-451d-ad2f-d1fa26dec576",
   "metadata": {},
   "source": [
    "# Project Name"
   ]
  },
  {
   "cell_type": "markdown",
   "id": "a403fb48-be61-4a43-9cbe-ebdf1da1af8b",
   "metadata": {},
   "source": [
    "**Author:** Sraavi Vaddadi\n",
    "<br>\n",
    "**Last Modified:** 11-13-2024 (created: 11-13-2024)\n",
    "<br>\n",
    "**Description:** Short paragraph explaining this project. "
   ]
  },
  {
   "cell_type": "markdown",
   "id": "3b742921-8c2d-4ee2-b3de-9b452a0671c9",
   "metadata": {},
   "source": [
    "<br>"
   ]
  },
  {
   "cell_type": "markdown",
   "id": "409baffa-550f-4a45-b7c1-9f5e35ab300e",
   "metadata": {},
   "source": [
    "## Import Libraries"
   ]
  },
  {
   "cell_type": "markdown",
   "id": "dd97b3ac-a2d0-45d1-b8a9-3b1bd70b02b4",
   "metadata": {},
   "source": [
    "### General Libraries: "
   ]
  },
  {
   "cell_type": "code",
   "execution_count": 29,
   "id": "f4c00ecc-ef73-477f-ab84-268013b8283b",
   "metadata": {},
   "outputs": [],
   "source": [
    "import pandas as pd\n",
    "import numpy as np \n",
    "import matplotlib.pyplot as plt \n",
    "import seaborn as sns"
   ]
  },
  {
   "cell_type": "markdown",
   "id": "0de10d64-29f1-463d-8842-0307d2c580fd",
   "metadata": {},
   "source": [
    "### Libraries for Web Scraping:"
   ]
  },
  {
   "cell_type": "code",
   "execution_count": 19,
   "id": "6777530b-dc83-4046-85f0-cda498ab9691",
   "metadata": {},
   "outputs": [],
   "source": [
    "import pandas as pd \n",
    "from selenium import webdriver\n",
    "from selenium.webdriver.common.by import By \n",
    "from selenium.webdriver.chrome.service import Service\n",
    "from webdriver_manager.chrome import ChromeDriverManager\n",
    "import time\n",
    "import random"
   ]
  },
  {
   "cell_type": "markdown",
   "id": "aa6d1bcd-7227-4492-af25-9f89e042efd4",
   "metadata": {},
   "source": [
    "### Libraries for API Scraping:"
   ]
  },
  {
   "cell_type": "code",
   "execution_count": 34,
   "id": "3a8b8427-c685-4895-8356-ffe79e5af7d4",
   "metadata": {},
   "outputs": [],
   "source": [
    "import pandas as pd\n",
    "import requests\n",
    "import json"
   ]
  },
  {
   "cell_type": "markdown",
   "id": "b6de37f9-8dbf-4f40-bf8c-ed4479b319a1",
   "metadata": {},
   "source": [
    "<br>"
   ]
  },
  {
   "cell_type": "markdown",
   "id": "9ec22e88-3ba0-4389-bbe8-7a02d349605f",
   "metadata": {},
   "source": [
    "## Load Data: "
   ]
  },
  {
   "cell_type": "markdown",
   "id": "99d70b43-50b7-48e5-8558-7de6fa95f9d1",
   "metadata": {},
   "source": [
    "### CSV, TXT, JSON Files: "
   ]
  },
  {
   "cell_type": "code",
   "execution_count": null,
   "id": "d1742f2a-ded5-4a53-83f3-3d97a1b96fd1",
   "metadata": {},
   "outputs": [],
   "source": [
    "# Code to read csv or txt file\n",
    "df = pd.read_csv('file_name.csv', encoding = 'utf=8')"
   ]
  },
  {
   "cell_type": "code",
   "execution_count": null,
   "id": "d18748f7-e555-44ab-b84d-435c692becd2",
   "metadata": {},
   "outputs": [],
   "source": [
    "# Code to read JSON files\n",
    "df = pd.read_json('file_name.json', encoding = 'utf=8')"
   ]
  },
  {
   "cell_type": "markdown",
   "id": "61288e3a-b35a-446d-8f9b-a8bb655c8f81",
   "metadata": {},
   "source": [
    "### Web Scraping: "
   ]
  },
  {
   "cell_type": "code",
   "execution_count": null,
   "id": "c17bef24-b440-475b-bb25-6f83b4dfeef8",
   "metadata": {},
   "outputs": [],
   "source": [
    "# Set up chrome driver using webdriver_manager \n",
    "chrome_options = Options()\n",
    "service = Service(ChromeDriverManager().install())\n",
    "browser = webdriver.Chrome(service=Service(ChromeDriverManager().install()))"
   ]
  },
  {
   "cell_type": "code",
   "execution_count": null,
   "id": "16675ac7-430d-4179-9923-0e4cf2d73aa2",
   "metadata": {},
   "outputs": [],
   "source": [
    "# Open URL \n",
    "url = \"https://www.scrapethissite.com/pages/forms/\"\n",
    "browser.get(url)\n",
    "browser.maximize_window()"
   ]
  },
  {
   "cell_type": "code",
   "execution_count": null,
   "id": "37fc5c2f-4d1d-442c-9aa3-7c0a5ace449f",
   "metadata": {},
   "outputs": [],
   "source": [
    "# Function for random scrolling in a webpage \n",
    "\n",
    "def random_scroll(browser, total_wait_time):\n",
    "    total_height = browser.execute_script(\"return document.body.scrollHeight\")\n",
    "    scroll_steps = random.randint(3, 7)\n",
    "    scroll_increment = total_height // scroll_steps\n",
    "    time_per_step = total_wait_time / scroll_steps\n",
    "    for step in range(scroll_steps):\n",
    "        browser.execute_script(f\"window.scrollBy(0, {scroll_increment});\")\n",
    "        time.sleep(random.uniform(0.5 * time_per_step, 1.5 * time_per_step))\n",
    "    browser.execute_script(\"window.scrollTo(0, document.body.scrollHeight);\")"
   ]
  },
  {
   "cell_type": "code",
   "execution_count": null,
   "id": "967a4408-dd54-425c-9cb9-89989ec99f52",
   "metadata": {},
   "outputs": [],
   "source": [
    "# Create empty lists and loop through pages \n",
    "\n",
    "list = []\n",
    "\n",
    "for i in range (1, 25): \n",
    "    url = f\"URL\"\n",
    "\n",
    "    browser.get(url)\n",
    "    \n",
    "    total_wait_time = random.uniform(2, 20) \n",
    "    random_scroll(browser, total_wait_time)\n",
    "\n",
    "    item_element = browser.find_elements(By.CLASS_NAME, \"  \") \n",
    "    for item in item_elements: \n",
    "        list.append(item.text)\n",
    "\n",
    "    print(f\"page {i} is done\")"
   ]
  },
  {
   "cell_type": "code",
   "execution_count": null,
   "id": "63490e41-982b-49a5-800f-a8ac6348ba4f",
   "metadata": {},
   "outputs": [],
   "source": [
    "# function to navigate to the next page \n",
    "\n",
    "def go_to_next_page(browser):\n",
    "    try:\n",
    "        next_button = browser.find_element(By.XPATH, \"  \")\n",
    "        next_button.click()\n",
    "        return True\n",
    "    except:\n",
    "        return False\n"
   ]
  },
  {
   "cell_type": "markdown",
   "id": "e743b97c-bf77-45ca-8bbf-687b031ec041",
   "metadata": {},
   "source": [
    "### API Scraping: "
   ]
  },
  {
   "cell_type": "code",
   "execution_count": null,
   "id": "f83ea68b-63fc-4d06-bd8a-a17fbf263fab",
   "metadata": {},
   "outputs": [],
   "source": [
    "# Create API URL \n",
    "\n",
    "base_url = 'URL'\n",
    "api_key = 'API Key'\n",
    "url = f'{base_url}&api_key={api_key}'\n",
    "\n",
    "print(url)"
   ]
  },
  {
   "cell_type": "code",
   "execution_count": null,
   "id": "5c949c68-2912-4b87-91e0-bd77263374cd",
   "metadata": {},
   "outputs": [],
   "source": [
    "# Request API for data \n",
    "response = requests.get(url)\n",
    "\n",
    "if response.status_code == 200:\n",
    "    data = response.json()\n",
    "    \n",
    "else:\n",
    "    print(f'Failed to retrieve data. Status code: {response.status_code}')"
   ]
  },
  {
   "cell_type": "markdown",
   "id": "44bfa54f-286e-41c7-a4e6-47fb434fdf05",
   "metadata": {},
   "source": [
    "## Save Dataframe"
   ]
  },
  {
   "cell_type": "markdown",
   "id": "7f041ac0-f7f0-4e37-a4d9-74fd68068496",
   "metadata": {},
   "source": [
    "### Save as csv "
   ]
  },
  {
   "cell_type": "code",
   "execution_count": null,
   "id": "c59edad9-5e6d-4335-a42f-01a4413c884e",
   "metadata": {},
   "outputs": [],
   "source": [
    "# Save the dataframe as csv \n",
    "df.to_csv('new_file_name.csv', header = True, index = False)"
   ]
  },
  {
   "cell_type": "markdown",
   "id": "a12d3b5a-d9c3-4cdb-af24-65ebcbbe9f04",
   "metadata": {},
   "source": [
    "### Save as JSON"
   ]
  },
  {
   "cell_type": "code",
   "execution_count": null,
   "id": "48706ed1-4007-44d0-b3b8-78b5ad562f2f",
   "metadata": {},
   "outputs": [],
   "source": [
    "# Save the datafame as a json file \n",
    "\n",
    "with open(\"new_file_name\", 'w') as file:\n",
    "    df.to_json(file, orient = 'records', indent = 4)"
   ]
  }
 ],
 "metadata": {
  "kernelspec": {
   "display_name": "Python 3 (ipykernel)",
   "language": "python",
   "name": "python3"
  },
  "language_info": {
   "codemirror_mode": {
    "name": "ipython",
    "version": 3
   },
   "file_extension": ".py",
   "mimetype": "text/x-python",
   "name": "python",
   "nbconvert_exporter": "python",
   "pygments_lexer": "ipython3",
   "version": "3.12.4"
  }
 },
 "nbformat": 4,
 "nbformat_minor": 5
}
