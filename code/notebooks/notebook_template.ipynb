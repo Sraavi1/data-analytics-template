{
 "cells": [
  {
   "cell_type": "markdown",
   "id": "f66a3497-6a7d-451d-ad2f-d1fa26dec576",
   "metadata": {},
   "source": [
    "# Project Name"
   ]
  },
  {
   "cell_type": "markdown",
   "id": "a403fb48-be61-4a43-9cbe-ebdf1da1af8b",
   "metadata": {},
   "source": [
    "**Author:** Sraavi Vaddadi\n",
    "<br>\n",
    "**Last Modified:** 11-13-2024 (created: 11-13-2024)\n",
    "<br>\n",
    "**Description:** Short paragraph explaining this project. "
   ]
  },
  {
   "cell_type": "markdown",
   "id": "3b742921-8c2d-4ee2-b3de-9b452a0671c9",
   "metadata": {},
   "source": [
    "<br>"
   ]
  },
  {
   "cell_type": "markdown",
   "id": "dd97b3ac-a2d0-45d1-b8a9-3b1bd70b02b4",
   "metadata": {},
   "source": [
    "Import Libraries: "
   ]
  },
  {
   "cell_type": "code",
   "execution_count": 5,
   "id": "f4c00ecc-ef73-477f-ab84-268013b8283b",
   "metadata": {},
   "outputs": [],
   "source": [
    "import pandas as pd"
   ]
  },
  {
   "cell_type": "markdown",
   "id": "b6de37f9-8dbf-4f40-bf8c-ed4479b319a1",
   "metadata": {},
   "source": [
    "<br>"
   ]
  },
  {
   "cell_type": "markdown",
   "id": "9ec22e88-3ba0-4389-bbe8-7a02d349605f",
   "metadata": {},
   "source": [
    "Load Data: "
   ]
  },
  {
   "cell_type": "code",
   "execution_count": null,
   "id": "d1742f2a-ded5-4a53-83f3-3d97a1b96fd1",
   "metadata": {},
   "outputs": [],
   "source": [
    "# Code to read csv file\n",
    "df = pd.read_csv('file_name.csv')"
   ]
  },
  {
   "cell_type": "code",
   "execution_count": null,
   "id": "671a5b64-85b1-434b-8bcd-2c76113d2078",
   "metadata": {},
   "outputs": [],
   "source": []
  }
 ],
 "metadata": {
  "kernelspec": {
   "display_name": "Python 3 (ipykernel)",
   "language": "python",
   "name": "python3"
  },
  "language_info": {
   "codemirror_mode": {
    "name": "ipython",
    "version": 3
   },
   "file_extension": ".py",
   "mimetype": "text/x-python",
   "name": "python",
   "nbconvert_exporter": "python",
   "pygments_lexer": "ipython3",
   "version": "3.12.4"
  }
 },
 "nbformat": 4,
 "nbformat_minor": 5
}
